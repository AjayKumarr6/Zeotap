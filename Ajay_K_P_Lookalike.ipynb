{
 "cells": [
  {
   "cell_type": "code",
   "execution_count": 1,
   "id": "d885cfab-6c3f-47f1-ad8d-1e367e8d20c5",
   "metadata": {},
   "outputs": [],
   "source": [
    "# Import necessary libraries\n",
    "import pandas as pd \n",
    "import numpy as np\n",
    "from sklearn.preprocessing import OneHotEncoder, MinMaxScaler\n",
    "from sklearn.metrics.pairwise import cosine_similarity"
   ]
  },
  {
   "cell_type": "code",
   "execution_count": 2,
   "id": "f0b22793-5763-4a9b-b220-7457876347f6",
   "metadata": {},
   "outputs": [],
   "source": [
    "# Load datasets\n",
    "customers = pd.read_csv(\"Customers.csv\")\n",
    "products = pd.read_csv(\"Products.csv\")\n",
    "transactions = pd.read_csv(\"Transactions.csv\")"
   ]
  },
  {
   "cell_type": "code",
   "execution_count": 3,
   "id": "574ee24f-73c8-4ca0-8728-edf53a49477a",
   "metadata": {},
   "outputs": [],
   "source": [
    "# Merge datasets\n",
    "merged_df = transactions.merge(customers, on=\"CustomerID\", how=\"left\")\n",
    "merged_df = merged_df.merge(products, on=\"ProductID\", how=\"left\")"
   ]
  },
  {
   "cell_type": "markdown",
   "id": "f1b0d9f3-c101-48fc-bbef-32fe08fc78e9",
   "metadata": {},
   "source": [
    "## Feature Engineering"
   ]
  },
  {
   "cell_type": "code",
   "execution_count": 4,
   "id": "9a8d7ff3-509c-4412-b4e1-157abdbb4e51",
   "metadata": {},
   "outputs": [],
   "source": [
    "# Aggregating transaction-level data for each customer\n",
    "customer_features = merged_df.groupby(\"CustomerID\").agg({\n",
    "    \"TotalValue\": [\"sum\", \"mean\"],        # Total and average spending\n",
    "    \"Quantity\": [\"sum\"],                 # Total quantity purchased\n",
    "    \"Category\": lambda x: x.mode()[0],   # Most purchased category\n",
    "    \"Region\": \"first\",                   # Region from customer profile\n",
    "    \"SignupDate\": \"first\"                # Signup date from customer profile\n",
    "}).reset_index()\n",
    "\n",
    "customer_features.columns = [\n",
    "    \"CustomerID\", \"TotalSpending\", \"AvgSpending\", \"TotalQuantity\",\n",
    "    \"MostPurchasedCategory\", \"Region\", \"SignupDate\"\n",
    "]"
   ]
  },
  {
   "cell_type": "code",
   "execution_count": 5,
   "id": "babf0d43-0ef3-458b-ac5e-f1a6cd891848",
   "metadata": {},
   "outputs": [],
   "source": [
    "# Convert signup date to a numerical feature (days since signup)\n",
    "customer_features[\"SignupDate\"] = pd.to_datetime(customer_features[\"SignupDate\"])\n",
    "customer_features[\"DaysSinceSignup\"] = (pd.Timestamp.now() - customer_features[\"SignupDate\"]).dt.days"
   ]
  },
  {
   "cell_type": "code",
   "execution_count": 6,
   "id": "d50706e7-d4ff-4614-87b4-623b31f86e19",
   "metadata": {},
   "outputs": [],
   "source": [
    "# Drop original signup date\n",
    "customer_features.drop(columns=[\"SignupDate\"], inplace=True)"
   ]
  },
  {
   "cell_type": "code",
   "execution_count": 7,
   "id": "3e1845df-7c91-4eeb-b81d-e398a6a8175d",
   "metadata": {},
   "outputs": [],
   "source": [
    "# One-hot encode categorical features (Region and MostPurchasedCategory)\n",
    "encoder = OneHotEncoder()\n",
    "encoded_features = encoder.fit_transform(customer_features[[\"Region\", \"MostPurchasedCategory\"]]).toarray()"
   ]
  },
  {
   "cell_type": "code",
   "execution_count": 8,
   "id": "451f4fa2-9834-4fe9-be0f-fb0ddc882fad",
   "metadata": {},
   "outputs": [],
   "source": [
    "# Combine all features into a single DataFrame\n",
    "numerical_features = customer_features[[\"TotalSpending\", \"AvgSpending\", \"TotalQuantity\", \"DaysSinceSignup\"]]\n",
    "scaler = MinMaxScaler()\n",
    "scaled_features = scaler.fit_transform(numerical_features)"
   ]
  },
  {
   "cell_type": "code",
   "execution_count": 9,
   "id": "5f4b896c-1e96-4243-96f4-4296d91368ca",
   "metadata": {},
   "outputs": [],
   "source": [
    "# Final feature matrix\n",
    "feature_matrix = np.hstack((scaled_features, encoded_features))"
   ]
  },
  {
   "cell_type": "markdown",
   "id": "b9883a5b-f50e-4fad-92d2-cbcd5c9d421b",
   "metadata": {},
   "source": [
    "## Similarity Calculation"
   ]
  },
  {
   "cell_type": "code",
   "execution_count": 10,
   "id": "5e7ca9d2-2783-462d-9476-23456d91f32b",
   "metadata": {},
   "outputs": [],
   "source": [
    "# Compute pairwise cosine similarity\n",
    "similarity_matrix = cosine_similarity(feature_matrix)"
   ]
  },
  {
   "cell_type": "markdown",
   "id": "541e4931-190f-4281-b1a8-b81eadb041d4",
   "metadata": {},
   "source": [
    "## Generating Lookalike Recommendations"
   ]
  },
  {
   "cell_type": "code",
   "execution_count": 11,
   "id": "ed0c32cc-4b4b-490f-8e9c-4220c6c37960",
   "metadata": {},
   "outputs": [],
   "source": [
    "# Create a DataFrame to store lookalike results\n",
    "lookalike_results = []\n",
    "\n",
    "for idx, customer_id in enumerate(customer_features[\"CustomerID\"]):\n",
    "    # Get similarity scores for the current customer\n",
    "    similarities = similarity_matrix[idx]\n",
    "    similar_customers = sorted(\n",
    "        [(other_id, score) for other_id, score in zip(customer_features[\"CustomerID\"], similarities) if other_id != customer_id],\n",
    "        key=lambda x: x[1], reverse=True\n",
    "    )\n",
    "    # Select top 3 similar customers\n",
    "    top_3 = similar_customers[:3]\n",
    "    lookalike_results.append({\n",
    "        \"CustomerID\": customer_id,\n",
    "        \"Lookalikes\": [{\"CustomerID\": c[0], \"SimilarityScore\": c[1]} for c in top_3]\n",
    "    })"
   ]
  },
  {
   "cell_type": "code",
   "execution_count": 12,
   "id": "bba534ad-e5c7-414b-a211-b043e1e0828c",
   "metadata": {},
   "outputs": [],
   "source": [
    "# Create Lookalike.csv\n",
    "lookalike_df = pd.DataFrame([\n",
    "    {\"CustomerID\": result[\"CustomerID\"], \n",
    "     \"LookalikeIDs\": [entry[\"CustomerID\"] for entry in result[\"Lookalikes\"]], \n",
    "     \"SimilarityScores\": [entry[\"SimilarityScore\"] for entry in result[\"Lookalikes\"]]}\n",
    "    for result in lookalike_results\n",
    "])\n",
    "\n",
    "# Save to CSV\n",
    "lookalike_df.to_csv(\"Ajay_K_P_Lookalike.csv\", index=False)\n"
   ]
  },
  {
   "cell_type": "code",
   "execution_count": null,
   "id": "80f3a767-6aaf-4da2-bbc0-0dafccf7990d",
   "metadata": {},
   "outputs": [],
   "source": []
  }
 ],
 "metadata": {
  "kernelspec": {
   "display_name": "Python 3 (ipykernel)",
   "language": "python",
   "name": "python3"
  },
  "language_info": {
   "codemirror_mode": {
    "name": "ipython",
    "version": 3
   },
   "file_extension": ".py",
   "mimetype": "text/x-python",
   "name": "python",
   "nbconvert_exporter": "python",
   "pygments_lexer": "ipython3",
   "version": "3.11.9"
  }
 },
 "nbformat": 4,
 "nbformat_minor": 5
}
